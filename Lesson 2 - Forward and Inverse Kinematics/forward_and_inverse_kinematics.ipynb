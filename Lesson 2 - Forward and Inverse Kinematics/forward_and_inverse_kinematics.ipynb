{
 "cells": [
  {
   "cell_type": "markdown",
   "metadata": {},
   "source": [
    "# Forward and Inverse Kinematics"
   ]
  },
  {
   "cell_type": "markdown",
   "metadata": {},
   "source": [
    "## Rotations in Sympy"
   ]
  },
  {
   "cell_type": "code",
   "execution_count": 12,
   "metadata": {},
   "outputs": [],
   "source": [
    "from sympy import symbols, cos, sin, pi, simplify\n",
    "from sympy.matrices import Matrix\n",
    "import numpy as np\n",
    "from IPython.display import Image"
   ]
  },
  {
   "cell_type": "code",
   "execution_count": 2,
   "metadata": {},
   "outputs": [],
   "source": [
    "### Create symbols for joint variables\n",
    "q1, q2, q3, q4 = symbols('q1:5') # remember slices do not include the end value \n",
    "# unrelated symbols can be defined like this:\n",
    "A, R, O, C = symbols('A R O C')"
   ]
  },
  {
   "cell_type": "code",
   "execution_count": 3,
   "metadata": {},
   "outputs": [],
   "source": [
    "# Conversion Factors\n",
    "rtd = 180./np.pi # radians to degrees\n",
    "dtr = np.pi/180. # degrees to radians"
   ]
  },
  {
   "cell_type": "code",
   "execution_count": 4,
   "metadata": {},
   "outputs": [],
   "source": [
    "R_x = Matrix([[ 1,              0,        0],\n",
    "              [ 0,        cos(q1), -sin(q1)],\n",
    "              [ 0,        sin(q1),  cos(q1)]])\n",
    "\n",
    "R_y = Matrix([[ cos(q2),        0,  sin(q2)],\n",
    "              [       0,        1,        0],\n",
    "              [-sin(q2),        0,  cos(q2)]])\n",
    "\n",
    "R_z = Matrix([[ cos(q3), -sin(q3),        0],\n",
    "              [ sin(q3),  cos(q3),        0],\n",
    "              [ 0,              0,        1]])"
   ]
  },
  {
   "cell_type": "code",
   "execution_count": 5,
   "metadata": {},
   "outputs": [
    {
     "name": "stdout",
     "output_type": "stream",
     "text": [
      "Rotation about the X-axis by 45-degrees\n",
      "Matrix([[1.00000000000000, 0, 0], [0, 0.707106781186548, -0.707106781186547], [0, 0.707106781186547, 0.707106781186548]])\n",
      "Rotation about the y-axis by 45-degrees\n",
      "Matrix([[0.707106781186548, 0, 0.707106781186547], [0, 1.00000000000000, 0], [-0.707106781186547, 0, 0.707106781186548]])\n",
      "Rotation about the Z-axis by 30-degrees\n",
      "Matrix([[0.866025403784439, -0.500000000000000, 0], [0.500000000000000, 0.866025403784439, 0], [0, 0, 1.00000000000000]])\n"
     ]
    }
   ],
   "source": [
    "print(\"Rotation about the X-axis by 45-degrees\")\n",
    "print(R_x.evalf(subs={q1: 45*dtr}))\n",
    "print(\"Rotation about the y-axis by 45-degrees\")\n",
    "print(R_y.evalf(subs={q2: 45*dtr}))\n",
    "print(\"Rotation about the Z-axis by 30-degrees\")\n",
    "print(R_z.evalf(subs={q3: 30*dtr}))"
   ]
  },
  {
   "cell_type": "markdown",
   "metadata": {},
   "source": [
    "## Composite of Rotations"
   ]
  },
  {
   "cell_type": "code",
   "execution_count": 7,
   "metadata": {},
   "outputs": [],
   "source": [
    "# Perform an intrinsic rotation sequence about the Y and then Z axes\n",
    "#!/usr/bin/env python\n",
    "from sympy import symbols, cos, sin, pi, sqrt\n",
    "from sympy.matrices import Matrix\n",
    "\n",
    "### Create symbols for joint variables\n",
    "q1, q2 = symbols('q1:3')\n",
    "\n",
    "# Create a symbolic matrix representing an intrinsic sequence of rotations \n",
    "  # about the Y and then Z axes. Let the rotation about the Y axis be described\n",
    "  # by q1 and the rotation about Z by q2. \n",
    "####### TO DO ########\n",
    "# Replace R_y and R_z with the appropriate (symbolic) elementary rotation matrices \n",
    "  # and then compute YZ_intrinsic. \n",
    "R_y = Matrix([[ cos(q1),        0, sin(q1)],\n",
    "              [ 0,              1,       0],\n",
    "              [-sin(q1),        0, cos(q1)]])\n",
    "R_z = Matrix([[ cos(q2), -sin(q2),       0],\n",
    "              [ sin(q2),  cos(q2),       0],\n",
    "              [       0,        0,       1]])\n",
    "\n",
    "YZ_intrinsic_sym = R_y * R_z\n",
    "YZ_intrinsic_num = YZ_intrinsic_sym.evalf(subs={q1: pi/4, q2: pi/3})"
   ]
  },
  {
   "cell_type": "code",
   "execution_count": 8,
   "metadata": {},
   "outputs": [],
   "source": [
    "# Perform an extrinsic rotation about the Z and then Y axes\n",
    "#!/usr/bin/env python\n",
    "from sympy import symbols, cos, sin, pi, sqrt\n",
    "from sympy.matrices import Matrix\n",
    "\n",
    "### Create symbols for joint variables\n",
    "q1, q2 = symbols('q1:3')\n",
    "\n",
    "# Create a symbolic matrix representing an extrinsic sequence of rotations \n",
    "  # about the Z and then Y axes. Let the rotation about the Y axis be described\n",
    "  # by q1 and the rotation about Z by q2. \n",
    "####### TO DO ########\n",
    "# Replace R_y and R_z with the appropriate (symbolic) elementary rotation matrices \n",
    "  # and then compute ZY_extrinsic. \n",
    "R_y = Matrix([[ cos(q1),        0, sin(q1)],\n",
    "              [ 0,              1,       0],\n",
    "              [-sin(q1),        0, cos(q1)]])\n",
    "R_z = Matrix([[ cos(q2), -sin(q2),       0],\n",
    "              [ sin(q2),  cos(q2),       0],\n",
    "              [       0,        0,       1]])\n",
    "ZY_extrinsic_sym = R_y * R_z\n",
    "ZY_extrinsic_num = ZY_extrinsic_sym.evalf(subs={q1: pi/4, q2: pi/3})"
   ]
  },
  {
   "cell_type": "markdown",
   "metadata": {},
   "source": [
    "## Euler Angles from a Rotation Matrix"
   ]
  },
  {
   "cell_type": "code",
   "execution_count": 9,
   "metadata": {},
   "outputs": [
    {
     "name": "stdout",
     "output_type": "stream",
     "text": [
      "alpha is =  0.785398163397448 radians or  45.0000000000000 degrees\n",
      "beta  is =  1.04719755119660 radians or  60.0000000000000 degrees\n",
      "gamma is =  0.523598775598299 radians or  30.0000000000000 degrees\n"
     ]
    }
   ],
   "source": [
    "#!/usr/bin/env python\n",
    "import numpy as np\n",
    "from sympy.matrices import Matrix\n",
    "from sympy import symbols, atan2, sqrt\n",
    "\n",
    "# Conversion Factors\n",
    "rtd = 180/np.pi\n",
    "dtr = np.pi/180\n",
    "\n",
    "# Fixed Axis X-Y-Z Rotation Matrix\n",
    "R_XYZ = Matrix([[ 0.353553390593274, -0.306186217847897, 0.883883476483184],\n",
    "                [ 0.353553390593274,  0.918558653543692, 0.176776695296637],\n",
    "                [-0.866025403784439,               0.25, 0.433012701892219]])\n",
    "\n",
    "### Identify useful terms from rotation matrix\n",
    "r31 = R_XYZ[2,0]\n",
    "r11 = R_XYZ[0,0]\n",
    "r21 = R_XYZ[1,0]\n",
    "r32 = R_XYZ[2,1]\n",
    "r33 = R_XYZ[2,2]\n",
    "\n",
    "\n",
    "### Euler Angles from Rotation Matrix\n",
    "  # sympy synatx for atan2 is atan2(y, x)\n",
    "beta  = atan2(-r31, sqrt(r11 * r11 + r21 * r21)) * rtd\n",
    "gamma = atan2(r32, r33) * rtd\n",
    "alpha = atan2(r21, r11) * rtd\n",
    "\n",
    "\n",
    "print(\"alpha is = \",alpha*dtr, \"radians\", \"or \", alpha, \"degrees\")\n",
    "print(\"beta  is = \",beta*dtr,  \"radians\", \"or \", beta, \"degrees\")\n",
    "print(\"gamma is = \",gamma*dtr, \"radians\", \"or \", gamma, \"degrees\")\n"
   ]
  },
  {
   "cell_type": "markdown",
   "metadata": {},
   "source": [
    "## Homogeneous Transforms and their Inverse"
   ]
  },
  {
   "cell_type": "markdown",
   "metadata": {},
   "source": [
    "It's time for you to try your own homogeneous transform, very similar to the one we have completed above. Now that we know the position of the end effector with respect to reference frame B, we can apply another transformation to calculate its position with respect to reference frame A, which is attached to Link #1.\n",
    "\n",
    "Given the parameters below, create the appropriate matrices in code and calculate the position of P."
   ]
  },
  {
   "cell_type": "code",
   "execution_count": 13,
   "metadata": {},
   "outputs": [
    {
     "data": {
      "text/html": [
       "<img src=\"https://d17h27t6h515a5.cloudfront.net/topher/2017/June/5940c492_arm-step-2/arm-step-2.png\"/>"
      ],
      "text/plain": [
       "<IPython.core.display.Image object>"
      ]
     },
     "execution_count": 13,
     "metadata": {},
     "output_type": "execute_result"
    }
   ],
   "source": [
    "Image(url='https://d17h27t6h515a5.cloudfront.net/topher/2017/June/5940c492_arm-step-2/arm-step-2.png')"
   ]
  },
  {
   "cell_type": "code",
   "execution_count": 10,
   "metadata": {},
   "outputs": [
    {
     "name": "stdout",
     "output_type": "stream",
     "text": [
      "P_new is : Matrix([[42.0*sin(q1) + 15.0*cos(q1) + 1.0], [0], [-15.0*sin(q1) + 42.0*cos(q1) + 30.0], [1]])\n",
      "The new coordinates of P_A are : Matrix([[35.3367879231231], [0], [1.53976466853328], [1.00000000000000]])\n"
     ]
    }
   ],
   "source": [
    "#!/usr/bin/env python\n",
    "from sympy import symbols, cos, sin, pi, simplify, sqrt, atan2\n",
    "from sympy.matrices import Matrix\n",
    "\n",
    "# Conversion Factors\n",
    "rtd = 180./pi # radians to degrees\n",
    "dtr = pi/180. # degrees to radians\n",
    "\n",
    "################################################\n",
    "#### Create symbol for rotation angle\n",
    "q1 = symIt's time for you to try your own homogeneous transform, very similar to the one we have completed above. Now that we know the position of the end effector with respect to reference frame B, we can apply another transformation to calculate its position with respect to reference frame A, which is attached to Link #1.\n",
    "\n",
    "Given the parameters below, create the appropriate matrices in code and calculate the position of P.bols('q1')\n",
    "\n",
    "# Construct P in {B}\n",
    "P = Matrix([[15.0],[0.0],[42.0],[1]])\n",
    "\n",
    "# Define Homogeneous Transform\n",
    "T = Matrix([[ cos(q1),   0,  sin(q1),    1.],\n",
    "            [ 0,         1,        0,    0.],\n",
    "            [ -sin(q1),  0,  cos(q1),   30.], \n",
    "            [ 0,       0,          0,   1 ]])\n",
    "\n",
    "# Calculate new coordinates of P in {A}\n",
    "P_new = simplify(T * P)\n",
    "print(\"P_new is :\", P_new)\n",
    "\n",
    "# Evaluate numerically\n",
    "print(\"The new coordinates of P_A are :\", P_new.evalf(subs={q1: 110*dtr}))"
   ]
  },
  {
   "cell_type": "markdown",
   "metadata": {},
   "source": [
    "## Composition of Homogeneous Transforms"
   ]
  },
  {
   "cell_type": "code",
   "execution_count": 14,
   "metadata": {},
   "outputs": [
    {
     "data": {
      "text/html": [
       "<img src=\"https://d17h27t6h515a5.cloudfront.net/topher/2017/June/5940cea9_l01-15-l-composition-of-homogeneous-transforms-2/l01-15-l-composition-of-homogeneous-transforms-2.png\"/>"
      ],
      "text/plain": [
       "<IPython.core.display.Image object>"
      ]
     },
     "execution_count": 14,
     "metadata": {},
     "output_type": "execute_result"
    }
   ],
   "source": [
    "Image(url='https://d17h27t6h515a5.cloudfront.net/topher/2017/June/5940cea9_l01-15-l-composition-of-homogeneous-transforms-2/l01-15-l-composition-of-homogeneous-transforms-2.png')"
   ]
  },
  {
   "cell_type": "markdown",
   "metadata": {},
   "source": [
    "The following steps are taken to obtain coordinate frame E from frame A.\n",
    "\n",
    "From Frame A to B to E:\n",
    "\n",
    "Frame A: Located at [0, 0, 0]\n",
    "Frame B: Rotate Frame A about a_y by -90 degrees. Translate A by [-2, 2, 4]\n",
    "Frame E: Rotate Frame B about b_x by 90 degrees. Translate B by [0, 2, 0]\n",
    "From Frame A to C to D to E:\n",
    "\n",
    "Frame C: Translate A by [4, 4, 0]\n",
    "Frame D: Rotate Frame C about c_x by 90 degrees. Translate C by [-3, 3, 2]\n",
    "Frame E: Rotate Frame D about d_Z by 90 degrees. Translate D by [-3, 2, 3]"
   ]
  },
  {
   "cell_type": "code",
   "execution_count": 15,
   "metadata": {},
   "outputs": [],
   "source": [
    "#!/usr/bin/env python\n",
    "\n",
    "from sympy import symbols, cos, sin, pi, sqrt, simplify\n",
    "from sympy.matrices import Matrix\n",
    "\n",
    "### Create symbols for joint variables\n",
    "# The numbers 1 to 4 correspond to each rotation in the order specified to you.\n",
    "q1, q2, q3, q4 = symbols('q1:5')\n",
    "\n",
    "### Define functions for Rotation Matrices about x, y, and z given specific angle.\n",
    "\n",
    "def rot_x(q):\n",
    "    R_x = Matrix([[ 1,              0,        0],\n",
    "                  [ 0,         cos(q),  -sin(q)],\n",
    "                  [ 0,         sin(q),  cos(q)]])\n",
    "    \n",
    "    return R_x\n",
    "    \n",
    "def rot_y(q):              \n",
    "    R_y = Matrix([[ cos(q),        0,  sin(q)],\n",
    "                  [      0,        1,       0],\n",
    "                  [-sin(q),        0, cos(q)]])\n",
    "    \n",
    "    return R_y\n",
    "\n",
    "def rot_z(q):    \n",
    "    R_z = Matrix([[ cos(q),  -sin(q),       0],\n",
    "                  [ sin(q),   cos(q),       0],\n",
    "                  [      0,        0,       1]])\n",
    "    \n",
    "    return R_z\n",
    "              \n",
    "### Define rotations between frames\n",
    "\n",
    "# Initial Rotation Matrix for Frame A\n",
    "Ra = Matrix([[1, 0, 0],\n",
    "             [0, 1, 0],\n",
    "             [0, 0, 1]])\n",
    "\n",
    "\n",
    "# Rotations performed on individual Frames for A->B->E\n",
    "Rb_a = rot_y(q1)\n",
    "Re_b = rot_x(q2)\n",
    "\n",
    "# Rotations performed on individual Frames for A->C->D->E\n",
    "Rc_a = Ra\n",
    "Rd_c = rot_x(q3)\n",
    "Re_d = rot_z(q4)\n",
    "\n",
    "### Define Translations between frames.\n",
    "\n",
    "tb_a = Matrix([ [-2],  [2], [4]])\n",
    "te_b = Matrix([  [0],  [2], [0]])\n",
    "tc_a = Matrix([  [4],  [4], [0]])\n",
    "td_c = Matrix([ [-3],  [3], [2]])\n",
    "te_d = Matrix([ [-3],  [2], [3]])\n",
    "\n",
    "### Define homogenous transformation matrices\n",
    "Ta = Ra.row_join(Matrix([[0], [0], [0]]))\n",
    "Ta = Ta.col_join(Matrix([[0, 0, 0, 1]])) \n",
    "\n",
    "Tb_a = Rb_a.row_join(tb_a)\n",
    "Tb_a = Tb_a.col_join(Matrix([[0, 0, 0, 1]]))\n",
    "\n",
    "Te_b = Re_b.row_join(te_b)\n",
    "Te_b = Te_b.col_join(Matrix([[0, 0, 0, 1]]))\n",
    "\n",
    "Tc_a = Rc_a.row_join(tc_a)\n",
    "Tc_a = Tc_a.col_join(Matrix([[0, 0, 0, 1]]))\n",
    "\n",
    "Td_c = Rd_c.row_join(td_c)\n",
    "Td_c = Td_c.col_join(Matrix([[0, 0, 0, 1]]))\n",
    "\n",
    "Te_d = Re_d.row_join(te_d)\n",
    "Te_d = Te_d.col_join(Matrix([[0, 0, 0, 1]]))               \n",
    "\n",
    "### Composition of Transformations\n",
    "Te_a_1 = simplify(Ta * Tb_a * Te_b)\n",
    "\n",
    "Te_a_2 = simplify(Ta * Tc_a * Td_c * Te_d)\n",
    "\n",
    "### Calculate orientation and position for E\n",
    "E_1 = Te_a_1.evalf(subs={q1: -pi/2, q2: pi/2}, chop = True)\n",
    "\n",
    "E_2 = Te_a_2.evalf(subs={q3: pi/2, q4: pi/2}, chop = True)"
   ]
  },
  {
   "cell_type": "markdown",
   "metadata": {},
   "source": [
    "## Forward Kinematics"
   ]
  },
  {
   "cell_type": "code",
   "execution_count": 16,
   "metadata": {},
   "outputs": [],
   "source": [
    "from sympy import symbols, cos, sin, pi, simplify\n",
    "from sympy.matrices import Matrix"
   ]
  },
  {
   "cell_type": "code",
   "execution_count": 17,
   "metadata": {},
   "outputs": [],
   "source": [
    "### Create symbols for joint variables\n",
    "q1, q2, q3, q4 = symbols('q1:5')\n",
    "d1, d2, d3, d4 = symbols('d1:5')\n",
    "a0, a1, a2, a3 = symbols('a0:4')\n",
    "alpha0, alpha1, alpha2, alpha3 = symbols('alpha0:4')"
   ]
  },
  {
   "cell_type": "code",
   "execution_count": 18,
   "metadata": {},
   "outputs": [],
   "source": [
    "a12 = 0.4500 # meters\n",
    "a23 = 0.3000 # meters"
   ]
  },
  {
   "cell_type": "code",
   "execution_count": 19,
   "metadata": {},
   "outputs": [],
   "source": [
    "# DH Parameters\n",
    "s = {alpha0: 0,  a0:   0, d1: 0, \n",
    "     alpha1: 0,  a1: a12, d2: 0,  \n",
    "     alpha2: 0,  a2: a23, d3: 0,\n",
    "     alpha3: 0,  a3:   0, d4: 0}"
   ]
  },
  {
   "cell_type": "code",
   "execution_count": 20,
   "metadata": {},
   "outputs": [],
   "source": [
    "#### Homogeneous Transforms\n",
    "T0_1 = Matrix([[             cos(q1),            -sin(q1),            0,              a0],\n",
    "               [ sin(q1)*cos(alpha0), cos(q1)*cos(alpha0), -sin(alpha0), -sin(alpha0)*d1],\n",
    "               [ sin(q1)*sin(alpha0), cos(q1)*sin(alpha0),  cos(alpha0),  cos(alpha0)*d1],\n",
    "               [                   0,                   0,            0,               1]])\n",
    "T0_1 = T0_1.subs(s)\n",
    "\n",
    "T1_2 = Matrix([[             cos(q2),            -sin(q2),            0,              a1],\n",
    "               [ sin(q2)*cos(alpha1), cos(q2)*cos(alpha1), -sin(alpha1), -sin(alpha1)*d2],\n",
    "               [ sin(q2)*sin(alpha1), cos(q2)*sin(alpha1),  cos(alpha1),  cos(alpha1)*d2],\n",
    "               [                   0,                   0,            0,               1]])\n",
    "T1_2 = T1_2.subs(s)\n",
    "\n",
    "T2_3 = Matrix([[             cos(q3),            -sin(q3),            0,              a2],\n",
    "               [ sin(q3)*cos(alpha2), cos(q3)*cos(alpha2), -sin(alpha2), -sin(alpha2)*d3],\n",
    "               [ sin(q3)*sin(alpha2), cos(q3)*sin(alpha2),  cos(alpha2),  cos(alpha2)*d3],\n",
    "               [                   0,                   0,            0,               1]])\n",
    "T2_3 = T2_3.subs(s)\n",
    "\n",
    "T3_4 = Matrix([[             cos(q4),            -sin(q4),            0,              a3],\n",
    "               [ sin(q4)*cos(alpha3), cos(q4)*cos(alpha3), -sin(alpha3), -sin(alpha3)*d4],\n",
    "               [ sin(q4)*sin(alpha3), cos(q4)*sin(alpha3),  cos(alpha3),  cos(alpha3)*d4],\n",
    "               [                   0,                   0,            0,               1]])\n",
    "T3_4 = T3_4.subs(s)"
   ]
  },
  {
   "cell_type": "code",
   "execution_count": 21,
   "metadata": {},
   "outputs": [],
   "source": [
    "# Transform from base link to end effector\n",
    "T0_4 = simplify(T0_1 * T1_2 * T2_3 * T3_4)"
   ]
  },
  {
   "cell_type": "code",
   "execution_count": 22,
   "metadata": {},
   "outputs": [
    {
     "name": "stdout",
     "output_type": "stream",
     "text": [
      "Matrix([[cos(q1 + q2 + q3 + q4), -sin(q1 + q2 + q3 + q4), 0, 0.45*cos(q1) + 0.3*cos(q1 + q2)], [sin(q1 + q2 + q3 + q4), cos(q1 + q2 + q3 + q4), 0, 0.45*sin(q1) + 0.3*sin(q1 + q2)], [0, 0, 1, 0], [0, 0, 0, 1]])\n"
     ]
    }
   ],
   "source": [
    "print(T0_4)"
   ]
  },
  {
   "cell_type": "code",
   "execution_count": null,
   "metadata": {},
   "outputs": [],
   "source": []
  }
 ],
 "metadata": {
  "kernelspec": {
   "display_name": "Python 3",
   "language": "python",
   "name": "python3"
  },
  "language_info": {
   "codemirror_mode": {
    "name": "ipython",
    "version": 3
   },
   "file_extension": ".py",
   "mimetype": "text/x-python",
   "name": "python",
   "nbconvert_exporter": "python",
   "pygments_lexer": "ipython3",
   "version": "3.5.2"
  },
  "widgets": {
   "state": {},
   "version": "1.1.2"
  }
 },
 "nbformat": 4,
 "nbformat_minor": 2
}
